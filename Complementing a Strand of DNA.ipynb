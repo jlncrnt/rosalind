{
 "cells": [
  {
   "cell_type": "markdown",
   "metadata": {},
   "source": [
    "# Complementing a Strand of DNA"
   ]
  },
  {
   "cell_type": "code",
   "execution_count": 38,
   "metadata": {
    "collapsed": false
   },
   "outputs": [
    {
     "name": "stdout",
     "output_type": "stream",
     "text": [
      "...ACTCAAGGAG\n"
     ]
    }
   ],
   "source": [
    "with open('Complementing a Strand of DNA Data.txt') as f:\n",
    "    dnastr = f.readline()\n",
    "    \n",
    "print(\"...\"+dnastr[-10:])"
   ]
  },
  {
   "cell_type": "code",
   "execution_count": 39,
   "metadata": {
    "collapsed": false
   },
   "outputs": [
    {
     "name": "stdout",
     "output_type": "stream",
     "text": [
      "GAGGAACTCA...\n"
     ]
    }
   ],
   "source": [
    "rtsand = dnastr[::-1]\n",
    "print(rtsand[:10]+\"...\")"
   ]
  },
  {
   "cell_type": "code",
   "execution_count": 40,
   "metadata": {
    "collapsed": false
   },
   "outputs": [
    {
     "name": "stdout",
     "output_type": "stream",
     "text": [
      "CTCCTTGAGTGGATGGGAGGTCATTGCTGCCACCCAGCGCCCCGCTCCTCGGTCCAGTTCTTCACGTCATCGCGGTGTGACGCATGAAGAGTAATGCCTTGTGCAAGAATCTTCTAGGCAAACGCACGGCGTAATTGATTTTGGACAACTTTTTCATCGAGCCGTGCGCATCATAAGGAGTGAGCTTTCTCTTTATGGATTAGGTTTGCGGATACATTGCACTGCGCCTCACCGCCGTATAACCAATGCCAAAGCGCGATTTAACAGCGGGAGTCCTTTTCGTAGTGCACGGATAAAAAAGAGACCAGTCGAAAGGCGTATTTAAATCTCATAGTCCCTGCAACCTAGCCGGCTCGGCGAACGCGGAAAGGCTGGGATCCCCGTGTATCGGGTATCCCGTCTACTACATCCAATTATCCCTTGTTTAGATGTGACCTCTTGCCCTATCTTCCGTACGAATCCTATCAAATGTGTAAGCGCAGACGGTAGTAGGAGGCCATTGGGAGTTCAAGCATTTGGAGAACTTGATTACAAAGGGTAGGCTACTCTTACGGTCCTTCGCCTTCCCTGATCGGCTCCAGGTGGGCGGTGGAGACGGAAAAAGGAACGGCAGTATTCGACGTGTTTAGATCGCTGGGCTCGACTTGGCGTCGCCTCGTAGAGAACTGCACCACAGTACGGGGGGGGCCAATTCCGTGTCTGGTGCACTCACACCTGTCACATCACGATTTCCCCGCCCGCAACCCAGAATCGATCCTAACTTTTTCCAGATTCACAATACCGTCCTACCTTAAACGAGGTGACAGATAGGTTGATTGTCTCATTTGTGGTAGGCTTTCCCATGACTAAATATCAGTCACAGTGACGTAT\n"
     ]
    }
   ],
   "source": [
    "lst = list(rtsand)\n",
    "for i,x in enumerate(lst):\n",
    "    if (x=='A'): lst[i]='T'\n",
    "    elif (x=='C'): lst[i]='G'\n",
    "    elif (x=='G'): lst[i]='C'\n",
    "    elif (x=='T'): lst[i]='A'\n",
    "    \n",
    "compl = ''.join(lst)\n",
    "\n",
    "print(compl)"
   ]
  }
 ],
 "metadata": {
  "kernelspec": {
   "display_name": "Python 2",
   "language": "python",
   "name": "python2"
  },
  "language_info": {
   "codemirror_mode": {
    "name": "ipython",
    "version": 2
   },
   "file_extension": ".py",
   "mimetype": "text/x-python",
   "name": "python",
   "nbconvert_exporter": "python",
   "pygments_lexer": "ipython2",
   "version": "2.7.6"
  }
 },
 "nbformat": 4,
 "nbformat_minor": 0
}
