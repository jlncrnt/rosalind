{
 "cells": [
  {
   "cell_type": "markdown",
   "metadata": {},
   "source": [
    "# Mendel's First Law"
   ]
  },
  {
   "cell_type": "code",
   "execution_count": 313,
   "metadata": {
    "collapsed": true
   },
   "outputs": [],
   "source": [
    "import numpy as np"
   ]
  },
  {
   "cell_type": "code",
   "execution_count": 314,
   "metadata": {
    "collapsed": false
   },
   "outputs": [
    {
     "name": "stdout",
     "output_type": "stream",
     "text": [
      "29 26 16\n"
     ]
    }
   ],
   "source": [
    "with open(\"Mendel's First Law Data.txt\") as f:\n",
    "    line = f.readline()\n",
    "print(line)"
   ]
  },
  {
   "cell_type": "code",
   "execution_count": 315,
   "metadata": {
    "collapsed": false
   },
   "outputs": [
    {
     "data": {
      "text/plain": [
       "array([29, 26, 16])"
      ]
     },
     "execution_count": 315,
     "metadata": {},
     "output_type": "execute_result"
    }
   ],
   "source": [
    "pop = np.fromstring(line, dtype=int, sep=' ')\n",
    "pop\n"
   ]
  },
  {
   "cell_type": "code",
   "execution_count": 316,
   "metadata": {
    "collapsed": false
   },
   "outputs": [
    {
     "name": "stdout",
     "output_type": "stream",
     "text": [
      "71\n",
      "29 26 16\n"
     ]
    }
   ],
   "source": [
    "tot = sum(pop)\n",
    "tot\n",
    "print(tot)\n",
    "k = pop[0]\n",
    "m = pop[1]\n",
    "n = pop[2]\n",
    "print(k,m,n)"
   ]
  },
  {
   "cell_type": "code",
   "execution_count": 317,
   "metadata": {
    "collapsed": false
   },
   "outputs": [
    {
     "data": {
      "text/plain": [
       "1.0"
      ]
     },
     "execution_count": 317,
     "metadata": {},
     "output_type": "execute_result"
    }
   ],
   "source": [
    "B1 = k/tot\n",
    "B2 = m/tot\n",
    "B3 = n/tot\n",
    "B1+B2+B3"
   ]
  },
  {
   "cell_type": "code",
   "execution_count": 318,
   "metadata": {
    "collapsed": false
   },
   "outputs": [
    {
     "name": "stdout",
     "output_type": "stream",
     "text": [
      "0.4\n",
      "0.371428571429\n",
      "0.228571428571\n",
      "1.0\n"
     ]
    }
   ],
   "source": [
    "B11 = ((k-1)/(tot-1)) * 1\n",
    "B12 = (m/(tot-1)) * 1\n",
    "B13 = (n/(tot-1)) * 1\n",
    "print(B11)\n",
    "print(B12)\n",
    "print(B13)\n",
    "print((B11+B12+B13))"
   ]
  },
  {
   "cell_type": "code",
   "execution_count": 319,
   "metadata": {
    "collapsed": false
   },
   "outputs": [
    {
     "name": "stdout",
     "output_type": "stream",
     "text": [
      "0.414285714286\n",
      "0.267857142857\n",
      "0.114285714286\n",
      "0.796428571429\n"
     ]
    }
   ],
   "source": [
    "B21 = (k/(tot-1)) * 1\n",
    "B22 = ((m-1)/(tot-1)) * (3/4)\n",
    "B23 = (n/(tot-1)) * (2/4)\n",
    "print(B21)\n",
    "print(B22)\n",
    "print(B23)\n",
    "print(B21+B22+B23)"
   ]
  },
  {
   "cell_type": "code",
   "execution_count": 320,
   "metadata": {
    "collapsed": false
   },
   "outputs": [
    {
     "name": "stdout",
     "output_type": "stream",
     "text": [
      "0.414285714286\n",
      "0.185714285714\n",
      "0.0\n",
      "0.6\n"
     ]
    }
   ],
   "source": [
    "B31 = (k/(tot-1)) * 1\n",
    "B32 = (m/(tot-1)) * (2/4)\n",
    "B33 = ((n-1)/(tot-1)) * 0\n",
    "print(B31)\n",
    "print(B32)\n",
    "print(B33)\n",
    "print(B31+B32+B33)"
   ]
  },
  {
   "cell_type": "code",
   "execution_count": 321,
   "metadata": {
    "collapsed": false
   },
   "outputs": [
    {
     "name": "stdout",
     "output_type": "stream",
     "text": [
      "0.835311871227\n"
     ]
    }
   ],
   "source": [
    "B1 = (B11 + B12 + B13) * B1\n",
    "B2 = (B21 + B22 + B23) * B2\n",
    "B3 = (B31 + B32 + B33) * B3\n",
    "print(B1+B2+B3)"
   ]
  },
  {
   "cell_type": "markdown",
   "metadata": {},
   "source": [
    "# Result"
   ]
  },
  {
   "cell_type": "code",
   "execution_count": 322,
   "metadata": {
    "collapsed": false
   },
   "outputs": [
    {
     "name": "stdout",
     "output_type": "stream",
     "text": [
      "0.835311871227\n"
     ]
    }
   ],
   "source": [
    "print(B1+B2+B3)"
   ]
  },
  {
   "cell_type": "markdown",
   "metadata": {},
   "source": [
    "# StackOverflow Solution"
   ]
  },
  {
   "cell_type": "code",
   "execution_count": 337,
   "metadata": {
    "collapsed": false
   },
   "outputs": [],
   "source": [
    "import scipy.misc\n",
    "\n",
    "pop_total = 4*scipy.misc.comb(k+m+n,2)\n",
    "\n",
    "hom = k\n",
    "het = m\n",
    "rec = n"
   ]
  },
  {
   "cell_type": "code",
   "execution_count": 342,
   "metadata": {
    "collapsed": false
   },
   "outputs": [
    {
     "name": "stdout",
     "output_type": "stream",
     "text": [
      "Total of organisms with dominant allele : 8303.0\n"
     ]
    }
   ],
   "source": [
    "dom_total = 4*scipy.misc.comb(hom,2) + 4*hom*het + 4*hom*rec + 3*scipy.misc.comb(het,2) + 2*het*rec\n",
    "print(\"Total of organisms with dominant allele : {0}\".format(dom_total))"
   ]
  },
  {
   "cell_type": "code",
   "execution_count": 343,
   "metadata": {
    "collapsed": false
   },
   "outputs": [
    {
     "name": "stdout",
     "output_type": "stream",
     "text": [
      "Probability of dominant : 0.8353118712273642\n"
     ]
    }
   ],
   "source": [
    "phom = dom_total/pop_total\n",
    "print(\"Probability of dominant : {0}\".format(phom))"
   ]
  },
  {
   "cell_type": "code",
   "execution_count": 346,
   "metadata": {
    "collapsed": false
   },
   "outputs": [
    {
     "name": "stdout",
     "output_type": "stream",
     "text": [
      "Probability of recessive : 0.16468812877263583\n"
     ]
    }
   ],
   "source": [
    "print(\"Probability of recessive : {0}\".format(1-phom))"
   ]
  }
 ],
 "metadata": {
  "kernelspec": {
   "display_name": "Python 3",
   "language": "python",
   "name": "python3"
  },
  "language_info": {
   "codemirror_mode": {
    "name": "ipython",
    "version": 3
   },
   "file_extension": ".py",
   "mimetype": "text/x-python",
   "name": "python",
   "nbconvert_exporter": "python",
   "pygments_lexer": "ipython3",
   "version": "3.5.1"
  }
 },
 "nbformat": 4,
 "nbformat_minor": 0
}
