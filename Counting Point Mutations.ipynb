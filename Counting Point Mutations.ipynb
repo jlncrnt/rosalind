{
 "cells": [
  {
   "cell_type": "markdown",
   "metadata": {},
   "source": [
    "# Counting Point Mutations"
   ]
  },
  {
   "cell_type": "code",
   "execution_count": 48,
   "metadata": {
    "collapsed": false
   },
   "outputs": [],
   "source": [
    "with open('Counting Point Mutations Data.txt') as f:\n",
    "    str1 = f.readline()\n",
    "    # ! Need a line termination character after last string\n",
    "    str2 = f.readline()\n",
    "\n",
    "lst1 = list(str1)[:-1] # rip \\n\n",
    "lst2 = list(str2)[:-1] # rip \\n"
   ]
  },
  {
   "cell_type": "code",
   "execution_count": 49,
   "metadata": {
    "collapsed": false
   },
   "outputs": [
    {
     "name": "stdout",
     "output_type": "stream",
     "text": [
      "The hamming distance is 474\n"
     ]
    }
   ],
   "source": [
    "#Comprehension list for matchin tuples in lists' zip\n",
    "\n",
    "hamming_d = len([i for i,j in zip(lst1,lst2) if i!=j])\n",
    "\n",
    "print(\"The hamming distance is {0}\".format(hamming_d))"
   ]
  }
 ],
 "metadata": {
  "kernelspec": {
   "display_name": "Python 2",
   "language": "python",
   "name": "python2"
  },
  "language_info": {
   "codemirror_mode": {
    "name": "ipython",
    "version": 3
   },
   "file_extension": ".py",
   "mimetype": "text/x-python",
   "name": "python",
   "nbconvert_exporter": "python",
   "pygments_lexer": "ipython3",
   "version": "3.5.1"
  }
 },
 "nbformat": 4,
 "nbformat_minor": 0
}
